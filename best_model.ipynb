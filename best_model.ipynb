{
 "cells": [
  {
   "cell_type": "markdown",
   "id": "ea001685-8575-4aa9-adc7-822494f8dd5d",
   "metadata": {
    "tags": []
   },
   "source": [
    "# 1. Setup"
   ]
  },
  {
   "cell_type": "code",
   "execution_count": 1,
   "id": "33c5dee2-90d6-4b9e-8c2a-e16227abb730",
   "metadata": {},
   "outputs": [],
   "source": [
    "# Useful starting lines\n",
    "%matplotlib inline\n",
    "%load_ext autoreload\n",
    "%autoreload 2\n",
    "\n",
    "# Import useful libraries\n",
    "import numpy as np\n",
    "import matplotlib.pyplot as plt\n",
    "from matplotlib.font_manager import FontProperties\n",
    "import time\n",
    "from helpers import *"
   ]
  },
  {
   "cell_type": "code",
   "execution_count": 2,
   "id": "c58230f4-de2d-4cb4-ae74-38c5c470dff8",
   "metadata": {},
   "outputs": [],
   "source": [
    "# Define the path to the dataset\n",
    "data_path = \"data/dataset_to_release_2\"\n",
    "\n",
    "# Load data from the specified dataset path\n",
    "x_train, x_test, y_train, train_ids, test_ids = load_csv_data(data_path)"
   ]
  },
  {
   "cell_type": "markdown",
   "id": "b1a909b2-3ddc-40d0-b1e5-63f43d006891",
   "metadata": {
    "tags": []
   },
   "source": [
    "# 2. Data cleaning"
   ]
  },
  {
   "cell_type": "markdown",
   "id": "10f8bcdc-9aa0-4b84-8e7d-4cbb8ce0d488",
   "metadata": {},
   "source": [
    "First, let's examine the data's class balance :"
   ]
  },
  {
   "cell_type": "code",
   "execution_count": 3,
   "id": "5ad26cc3-1de6-47c6-8df1-fcb53cc4dd4c",
   "metadata": {},
   "outputs": [
    {
     "name": "stdout",
     "output_type": "stream",
     "text": [
      "Percentage of -1 in y_train: 91.17%\n",
      "Percentage of 1 in y_train: 8.83%\n"
     ]
    }
   ],
   "source": [
    "# Count the number of occurrences where the value is -1 and 1 in the y_train array :\n",
    "count_minus_ones = np.count_nonzero(y_train == -1)\n",
    "count_ones = np.count_nonzero(y_train == 1)\n",
    "\n",
    "# Get the total number of samples in y_train :\n",
    "total_samples = len(y_train)\n",
    "\n",
    "# Calculate the percentage of occurrences of -1 and 1 in the y_train array :\n",
    "percentage_minus_ones = (count_minus_ones / total_samples) * 100\n",
    "percentage_ones = (count_ones / total_samples) * 100\n",
    "\n",
    "# Print the percentage of occurrences of -1 and 1 with two decimal places :\n",
    "print(f\"Percentage of -1 in y_train: {percentage_minus_ones:.2f}%\")\n",
    "print(f\"Percentage of 1 in y_train: {percentage_ones:.2f}%\")"
   ]
  },
  {
   "cell_type": "markdown",
   "id": "4f84f225-5be4-474e-890c-dd236a560dcd",
   "metadata": {},
   "source": [
    "The classes are significantly imbalanced, which suggests that we should prioritize the use of the **F1 score** as a prediction metric, since a model that always output -1 will have an accuracy of 91%."
   ]
  },
  {
   "cell_type": "markdown",
   "id": "87f7fa3b-f7bc-4d77-b80f-345cff1f2fc8",
   "metadata": {},
   "source": [
    "### First features filtering appraoch : Manual cleaning"
   ]
  },
  {
   "cell_type": "markdown",
   "id": "0160b87b-864e-4fc3-90f1-b8c40a7d5a54",
   "metadata": {},
   "source": [
    "Our first approach is to manually examine each feature and subjectively decide if it's relevant to keep it or not."
   ]
  },
  {
   "cell_type": "code",
   "execution_count": 4,
   "id": "997e7402-f099-49e4-bce0-5a7ef018e7dd",
   "metadata": {
    "tags": []
   },
   "outputs": [],
   "source": [
    "# Creates a dictionary that maps each feature name to its respective column index :\n",
    "with open('data/dataset_to_release_2/x_train.csv', 'r') as f:\n",
    "    column = f.readline().split(',')\n",
    "    column[-1] = column[-1][:-1]\n",
    "    column_dict = {column[1:][i]: i for i in range(len(column[1:]))}"
   ]
  },
  {
   "cell_type": "code",
   "execution_count": 5,
   "id": "08b7739d-13ac-4277-b708-a0ba4585434f",
   "metadata": {
    "tags": []
   },
   "outputs": [],
   "source": [
    "# Given the dictionary that maps each feature name to its respective column index, and the target columns, return the target indexes.\n",
    "def get_indexes_by_features_name(feature_dict, keys):\n",
    "    values = []\n",
    "    for key in keys:\n",
    "        if key in feature_dict:\n",
    "            values.append(feature_dict[key])\n",
    "    return values"
   ]
  },
  {
   "cell_type": "code",
   "execution_count": 6,
   "id": "255083af-84cd-493f-b19b-8c129c5ab39e",
   "metadata": {},
   "outputs": [],
   "source": [
    "# Create a copy of each array to avoid modifying the original data :\n",
    "x_train_cleaned_manual = x_train.copy()\n",
    "x_test_cleaned_manual = x_test.copy()\n",
    "\n",
    "# Define a list of column names (or keys) that represent continuous variables to be retained :\n",
    "continuous_keeped = ['GENHLTH','_AGE80','_AGEG5YR','_AGE_G','_AGE65YR','ARTTODAY','CHILDREN','LASTPAP2','ACTIN11_','CDASSIST',\n",
    "                     'ADMOVE','PHYSHLTH','_CHLDCNT','CDHOUSE','ALCDAY5','EDUCA','VIDFCLT2','_EDUCAG','LENGEXAM','CHOLCHK']\n",
    "\n",
    "# Define a list of column names (or keys) that represent category variables to be retained :\n",
    "category_keeped = ['SEX','MEDCOST','CVDCRHD4','CVDSTRK3','CHCOCNCR','CHCCOPD1','HAVARTH3', 'ADDEPEV2','SMOKE100','EXERANY2',\n",
    "                   'HPVADVC2','SHINGLE2','PREDIAB1','INSULIN','CDDISCUS','DRADVISE','ASATTACK','HAREHAB1','STREHAB1','RDUCHART',\n",
    "                   'ARTHWGT','_RFHLTH','_RFHYPE5','_RFCHOL','_LTASTH1','_RFBMI5','_RFDRHV5','_LMTACT1','_PNEUMO2','_AIDTST3']\n",
    "\n",
    "# Combine the two lists to create a single list of keys/columns to be retained :\n",
    "keys_to_lookup = continuous_keeped + category_keeped\n",
    "\n",
    "# Fetch the indices of the desired columns using the get_values function and the column_dict dictionary :\n",
    "selected_columns_indexes = get_indexes_by_features_name(column_dict, keys_to_lookup)\n",
    "\n",
    "# Filter and retain only the desired columns in the x arrays using the obtained indices :\n",
    "x_train_cleaned_manual = x_train_cleaned_manual[:, selected_columns_indexes]\n",
    "x_test_cleaned_manual = x_test_cleaned_manual[:, selected_columns_indexes]"
   ]
  },
  {
   "cell_type": "code",
   "execution_count": 7,
   "id": "63a4f80a-c7fc-4264-bbe7-12da9cfe9dd7",
   "metadata": {},
   "outputs": [
    {
     "name": "stdout",
     "output_type": "stream",
     "text": [
      "x_train went from 321 features to 49 features\n",
      "x_test went from 321 features to 49 features\n"
     ]
    }
   ],
   "source": [
    "print(f\"x_train went from {x_train.shape[1]} features to {x_train_cleaned_manual.shape[1]} features\")\n",
    "print(f\"x_test went from {x_test.shape[1]} features to {x_test_cleaned_manual.shape[1]} features\")"
   ]
  },
  {
   "cell_type": "markdown",
   "id": "cf257f4e-8aac-4d04-8339-1adbe9c9a0fd",
   "metadata": {},
   "source": [
    "Unfortunatelly, after training our model with such manual cleaning, we couldn't exceed a F1 score of 38%."
   ]
  },
  {
   "cell_type": "markdown",
   "id": "0790b736-6a32-454e-b8ff-49ee6be363fb",
   "metadata": {},
   "source": [
    "### Second features filtering appraoch : Statistical cleaning"
   ]
  },
  {
   "cell_type": "markdown",
   "id": "58131478-6b31-47b7-ba6f-dd68c92638e2",
   "metadata": {},
   "source": [
    "Our second approach is to filter the features with some basic statistics. We remove the columns that have too many missing data (null values). Then we remove the constant columns."
   ]
  },
  {
   "cell_type": "code",
   "execution_count": 8,
   "id": "d21d2fc2-03bc-4a59-9e84-41a089b5e098",
   "metadata": {},
   "outputs": [],
   "source": [
    "# Create a copy of each array to avoid modifying the original data :\n",
    "x_train_cleaned = x_train.copy()\n",
    "x_test_cleaned = x_test.copy()\n",
    "\n",
    "# Calculate the fraction of NaN values for each column\n",
    "nan_fraction_train = np.isnan(x_train_cleaned).mean(axis=0)\n",
    "\n",
    "# Use the mask to filter out columns with more than 80% NaN values\n",
    "mask_null = nan_fraction_train < 0.8\n",
    "x_train_cleaned = x_train_cleaned[:, mask_null]\n",
    "x_test_cleaned = x_test_cleaned[:, mask_null]"
   ]
  },
  {
   "cell_type": "code",
   "execution_count": 9,
   "id": "5934711f-9427-4fff-af1b-2191c7cd4afb",
   "metadata": {},
   "outputs": [],
   "source": [
    "# Identify non-constant columns, columns that have a standard deviation not equal to zero :\n",
    "mask_variance = (np.nanstd(x_train_cleaned, axis=0) != 0.0)\n",
    "\n",
    "# Retain only the non-constant columns in the x_train_copied dataset :\n",
    "x_train_cleaned = x_train_cleaned[:, mask_variance]\n",
    "x_test_cleaned = x_test_cleaned[:, mask_variance]"
   ]
  },
  {
   "cell_type": "code",
   "execution_count": 10,
   "id": "5335c11f-bf7f-4b9e-b015-b1a3d59c1f27",
   "metadata": {},
   "outputs": [
    {
     "name": "stdout",
     "output_type": "stream",
     "text": [
      "x_train went from 321 features to 201 features\n",
      "x_test went from 321 features to 201 features\n"
     ]
    }
   ],
   "source": [
    "print(f\"x_train went from {x_train.shape[1]} features to {x_train_cleaned.shape[1]} features\")\n",
    "print(f\"x_test went from {x_test.shape[1]} features to {x_test_cleaned.shape[1]} features\")"
   ]
  },
  {
   "cell_type": "markdown",
   "id": "da4569f0-0919-4b43-96fa-18da5b566a57",
   "metadata": {},
   "source": [
    "This cleaning allowed us to achieve a higher F1 score. Therefore we will use it instead of the manual one."
   ]
  },
  {
   "cell_type": "markdown",
   "id": "2609d2b2-72df-45ed-8638-d01318311778",
   "metadata": {},
   "source": [
    "### Filling missing values"
   ]
  },
  {
   "cell_type": "code",
   "execution_count": 11,
   "id": "da309eb3-c7bb-44a3-8d09-69f7391428d0",
   "metadata": {},
   "outputs": [],
   "source": [
    "# For each element in x arrays, if the element is NaN, replace it with the median :\n",
    "x_train_cleaned = np.where(np.isnan(x_train_cleaned), np.nanmedian(x_train_cleaned, axis=0), x_train_cleaned)\n",
    "x_test_cleaned = np.where(np.isnan(x_test_cleaned), np.nanmedian(x_test_cleaned, axis=0), x_test_cleaned)"
   ]
  },
  {
   "cell_type": "code",
   "execution_count": 12,
   "id": "22d675a9-9037-4620-ac30-c1e8c9f0a9c1",
   "metadata": {},
   "outputs": [
    {
     "name": "stdout",
     "output_type": "stream",
     "text": [
      "Number of NaN values in x_train_cleaned: 0\n",
      "Number of NaN values in x_test_cleaned: 0\n"
     ]
    }
   ],
   "source": [
    "x_train_cleaned_nan_count = np.isnan(x_train_cleaned).sum()\n",
    "x_test_cleaned_nan_count = np.isnan(x_test_cleaned).sum()\n",
    "\n",
    "assert x_train_cleaned_nan_count == 0, f\"Unexpected number of NaN values in x_train_cleaned: {x_train_cleaned_nan_count}\"\n",
    "assert x_test_cleaned_nan_count == 0, f\"Unexpected number of NaN values in x_test_cleaned: {x_test_cleaned_nan_count}\"\n",
    "\n",
    "print(f\"Number of NaN values in x_train_cleaned: {x_train_cleaned_nan_count}\")\n",
    "print(f\"Number of NaN values in x_test_cleaned: {x_test_cleaned_nan_count}\")"
   ]
  },
  {
   "cell_type": "markdown",
   "id": "352be3fd-9bfb-4f81-bf17-c41237b0c166",
   "metadata": {
    "tags": []
   },
   "source": [
    "# 3. Useful functions"
   ]
  },
  {
   "cell_type": "markdown",
   "id": "ec06b637-9023-4515-9da8-08b83f98e75a",
   "metadata": {
    "tags": []
   },
   "source": [
    "**Standardize**\n",
    "\n",
    "The `standardize` function is designed to standardize an original dataset. It scales the data to have a mean of 0 and a standard deviation of 1."
   ]
  },
  {
   "cell_type": "code",
   "execution_count": 13,
   "id": "22f99686-fca8-477f-94ba-be6e7c800a82",
   "metadata": {},
   "outputs": [],
   "source": [
    "def standardize(x):\n",
    "    mean_x = np.mean(x, axis=0)\n",
    "    x = x - mean_x\n",
    "    std_x = np.std(x, axis=0)\n",
    "    x = x / std_x\n",
    "    return x, mean_x, std_x"
   ]
  },
  {
   "cell_type": "markdown",
   "id": "9898d0de-89b9-47b7-89b8-b2125967871e",
   "metadata": {},
   "source": [
    "**Split data**\n",
    "\n",
    "The `split_data` function is designed to split a dataset into training and testing sets."
   ]
  },
  {
   "cell_type": "code",
   "execution_count": 14,
   "id": "c9483f0a-8e52-4961-a142-32c0900e4276",
   "metadata": {},
   "outputs": [],
   "source": [
    "def split_data(x, y, ratio, seed=1):\n",
    "    # set seed\n",
    "    np.random.seed(seed)\n",
    "\n",
    "    N = len(y)\n",
    "    indices = np.random.permutation(N)\n",
    "        \n",
    "    split = int(np.floor(N*ratio))\n",
    "    indice_train = indices[:split]\n",
    "    indice_test = indices[split:]\n",
    "    \n",
    "    x_train = x[indice_train]\n",
    "    y_train = y[indice_train]\n",
    "    x_test = x[indice_test]\n",
    "    y_test = y[indice_test]\n",
    "    \n",
    "    return x_train, x_test, y_train, y_test"
   ]
  },
  {
   "cell_type": "markdown",
   "id": "78c6eb66-a3a6-4592-b697-fbcb6bfe618c",
   "metadata": {},
   "source": [
    "**Evaluation metrics**\n",
    "\n",
    "- `accuracy` Function: Calculates the accuracy of a classification model by comparing predicted labels to ground truth labels.\n",
    "\n",
    "- `calculate_f1_score` Function: Computes the F1 score, a balanced metric for assessing the performance of binary classification models using precision and recall."
   ]
  },
  {
   "cell_type": "code",
   "execution_count": 15,
   "id": "8044f48c-4939-4cb4-a067-8b68020a9c26",
   "metadata": {},
   "outputs": [],
   "source": [
    "def calculate_accuracy(gt_values, preds):\n",
    "    return np.mean(preds == gt_values.reshape(-1, 1))"
   ]
  },
  {
   "cell_type": "code",
   "execution_count": 25,
   "id": "fc390f43-33d5-4a8c-b1fb-868129e84a45",
   "metadata": {},
   "outputs": [],
   "source": [
    "def calculate_f1_score(predicted, true):\n",
    "    true_positives = sum(p == 1 and t == 1 for p, t in zip(predicted, true))\n",
    "    false_positives = sum(p == 1 and t == -1 for p, t in zip(predicted, true))\n",
    "    false_negatives = sum(p == -1 and t == 1 for p, t in zip(predicted, true))\n",
    "\n",
    "    if true_positives == 0:\n",
    "        return 0  # Handle the case where there are no true positives to avoid division by zero.\n",
    "\n",
    "    precision = true_positives / (true_positives + false_positives)\n",
    "    recall = true_positives / (true_positives + false_negatives)\n",
    "\n",
    "    f1 = 2 * (precision * recall) / (precision + recall)\n",
    "    return f1[0]"
   ]
  },
  {
   "cell_type": "markdown",
   "id": "1722b45e-aa3f-4ac2-a337-e62d1f12f8e0",
   "metadata": {},
   "source": [
    "# 4. Classification models"
   ]
  },
  {
   "cell_type": "markdown",
   "id": "a53f40c6-7258-4022-84c3-62e09377d52b",
   "metadata": {},
   "source": [
    "We standardize the training and testing datasets `x_train_cleaned` and `x_test_cleaned`."
   ]
  },
  {
   "cell_type": "code",
   "execution_count": 18,
   "id": "eb634fc6-66b9-4f64-8bc3-e46d94b96dfa",
   "metadata": {},
   "outputs": [],
   "source": [
    "x_train_cleaned, _, _ = standardize(x_train_cleaned)\n",
    "x_test_cleaned, _, _ = standardize(x_test_cleaned)"
   ]
  },
  {
   "cell_type": "markdown",
   "id": "6214bdb4-e748-4b65-9a80-fd2195f4ce5e",
   "metadata": {},
   "source": [
    "We split the cleaned training data `x_train_cleaned` and corresponding labels `y_train_cleaned` into training and validation sets."
   ]
  },
  {
   "cell_type": "code",
   "execution_count": 19,
   "id": "ca218c0b-8aea-424d-95f7-406bece337ba",
   "metadata": {},
   "outputs": [],
   "source": [
    "x_train_set, x_validation_set, y_train_set, y_validation_set = split_data(x_train_cleaned, y_train, 0.8)"
   ]
  },
  {
   "cell_type": "markdown",
   "id": "38d07988-bc79-45d1-a2a2-8e7b94b11c39",
   "metadata": {
    "tags": []
   },
   "source": [
    "### A. Least Squares for classification"
   ]
  },
  {
   "cell_type": "markdown",
   "id": "0f38c395-ac74-4ad7-a4e1-3cc80d6fad88",
   "metadata": {},
   "source": [
    "We will try the Least Squares method, using the **Mean Squared Error (MSE)** as the loss function."
   ]
  },
  {
   "cell_type": "markdown",
   "id": "7e840fd2-2b21-49d3-bb7d-5f8bdbe20a08",
   "metadata": {},
   "source": [
    "We start by defining useful functions :"
   ]
  },
  {
   "cell_type": "code",
   "execution_count": 40,
   "id": "6baed35b-04df-458f-a2e8-a1268191f057",
   "metadata": {
    "tags": []
   },
   "outputs": [],
   "source": [
    "# Calculate the least squares solution.\n",
    "def least_squares(y, tx):\n",
    "    A = tx.T.dot(tx)\n",
    "    B = tx.T.dot(y)\n",
    "    w, _, _, _ = np.linalg.lstsq(A, B, rcond=None)\n",
    "    mse = compute_loss(y, tx, w)\n",
    "    \n",
    "    return (w, mse)\n",
    "\n",
    "# Calculate the mse loss\n",
    "def compute_loss(y, tx, w):\n",
    "    e = y - tx.dot(w)\n",
    "    mse = 1 / 2 * np.mean(e**2)\n",
    "    \n",
    "    # We can also test it with the MAE loss function.\n",
    "    # mae = np.mean(abs(e))\n",
    "    return mse"
   ]
  },
  {
   "cell_type": "markdown",
   "id": "99677d96-0494-46c4-8990-81ca739682a3",
   "metadata": {},
   "source": [
    "Now we will train our model and try to find the best decision threshold that maximizes the F1 score :"
   ]
  },
  {
   "cell_type": "code",
   "execution_count": 27,
   "id": "d0695e56-4a96-4b82-be8b-ea6f39a2577e",
   "metadata": {
    "tags": []
   },
   "outputs": [
    {
     "data": {
      "image/png": "[encoded data removed]",
      "text/plain": [
       "<Figure size 720x432 with 1 Axes>"
      ]
     },
     "metadata": {
      "needs_background": "light"
     },
     "output_type": "display_data"
    }
   ],
   "source": [
    "# Define the thresholds to test\n",
    "thresholds = np.arange(-0.5, 0.51, 0.01)\n",
    "\n",
    "# Initialize empty lists to store accuracy and F1 scores\n",
    "accuracies = []\n",
    "f1_scores = []\n",
    "\n",
    "w, loss = least_squares(y_train_set.reshape(-1, 1), x_train_set)\n",
    "predictions = x_validation_set @ w\n",
    "\n",
    "# Loop through each threshold\n",
    "for threshold in thresholds:\n",
    "    preds = np.where(predictions >= threshold, 1, -1)\n",
    "    accuracy = calculate_accuracy(y_validation_set.reshape(-1, 1), preds) * 100\n",
    "    f1_score = calculate_f1_score(preds, y_validation_set)*100\n",
    "\n",
    "    accuracies.append(accuracy)\n",
    "    f1_scores.append(f1_score)\n",
    "\n",
    "# Create a line plot\n",
    "plt.figure(figsize=(10, 6))\n",
    "plt.plot(thresholds, accuracies, label='Accuracy', marker='o')\n",
    "plt.plot(thresholds, f1_scores, label='F1 Score', marker='o')\n",
    "plt.xlabel('Threshold')\n",
    "plt.ylabel('Percentage')\n",
    "plt.title('Accuracy and F1 Score vs. Threshold')\n",
    "plt.legend()\n",
    "plt.grid(True)\n",
    "plt.show()"
   ]
  },
  {
   "cell_type": "markdown",
   "id": "aaaa338c-5245-4ec5-9177-9f1314ddcc8f",
   "metadata": {},
   "source": [
    "Since we are interested in the F1 score, we can notice that it's maximized for `threshold` = 0.265"
   ]
  },
  {
   "cell_type": "code",
   "execution_count": 57,
   "id": "80a07d3f-0c29-418a-8a73-aa1ca9363bd3",
   "metadata": {},
   "outputs": [
    {
     "name": "stdout",
     "output_type": "stream",
     "text": [
      "Best threshold: 0.265\n",
      "Accuracy: 86.71%\n",
      "F1 score: 40.55%\n",
      "Time taken: 0.37 sec\n"
     ]
    }
   ],
   "source": [
    "start_time = time.time()\n",
    "w, loss = least_squares(y_train_set.reshape(-1, 1), x_train_set)\n",
    "end_time = time.time()\n",
    "elapsed_time = end_time - start_time\n",
    "\n",
    "# Make predictions\n",
    "predictions = x_validation_set @ w\n",
    "\n",
    "threshold = 0.265\n",
    "\n",
    "# Apply a threshold to get binary class labels (e.g., 0 as the threshold)\n",
    "preds = np.where(predictions >= threshold, 1, -1)\n",
    "accuracy = calculate_accuracy(y_validation_set.reshape(-1, 1), preds) * 100\n",
    "f1_score = calculate_f1_score(preds, y_validation_set)*100\n",
    "\n",
    "print(f\"Best threshold: {threshold}\")\n",
    "print(f\"Accuracy: {accuracy:.2f}%\")\n",
    "print(f\"F1 score: {f1_score:.2f}%\")\n",
    "print(f\"Time taken: {elapsed_time:.2f} sec\")"
   ]
  },
  {
   "cell_type": "markdown",
   "id": "ef99b585-d6ab-494f-a9c4-e3c3cadf1fc5",
   "metadata": {},
   "source": [
    "The scores seems good, and the algorithm is very performant (0.37 sec)."
   ]
  },
  {
   "cell_type": "markdown",
   "id": "cd23c2cd-56a6-4846-8d3b-1055e7c1c4f3",
   "metadata": {},
   "source": [
    "Furthermore, testing it with the **Mean Absolute Error (MAE)** gives the exact same result"
   ]
  },
  {
   "cell_type": "markdown",
   "id": "2a031db1-7aea-412f-b79b-8bfe5622ea03",
   "metadata": {},
   "source": [
    "Let's see if the Logistic Regression approach gives better results."
   ]
  },
  {
   "cell_type": "markdown",
   "id": "ba2f140c-3041-4f8c-ac43-c33536b6b56e",
   "metadata": {
    "tags": []
   },
   "source": [
    "### B. Logistic Regression"
   ]
  },
  {
   "cell_type": "markdown",
   "id": "211f5596-3bea-451d-91a2-681ec0b3b3b0",
   "metadata": {},
   "source": [
    "We start by defining the functions used for logistic regression, with `sigmoid` computing the sigmoid function, `compute_loss_log_reg` calculating the negative log likelihood loss, and `compute_gradient_log_reg` computing the gradient of the loss."
   ]
  },
  {
   "cell_type": "code",
   "execution_count": 60,
   "id": "824c2235-672d-4a18-bb43-27bc5731071e",
   "metadata": {},
   "outputs": [],
   "source": [
    "# Apply sigmoid function on t.\n",
    "def sigmoid(t):\n",
    "    return 1.0 / (1 + np.exp(-t))\n",
    "\n",
    "# Computes the cost by negative log likelihood.\n",
    "def compute_loss_log_reg(y, tx, w):\n",
    "    assert y.shape[0] == tx.shape[0]\n",
    "    assert tx.shape[1] == w.shape[0]\n",
    "    \n",
    "    pred = sigmoid(tx.dot(w))\n",
    "    loss = y.T.dot(np.log(pred)) + (1 - y).T.dot(np.log(1 - pred))\n",
    "    \n",
    "    return np.squeeze(-loss).item() * (1 / y.shape[0])\n",
    "\n",
    "# Computes the gradient of loss.\n",
    "def compute_gradient_log_reg(y, tx, w):\n",
    "    pred = sigmoid(tx.dot(w))\n",
    "    grad = tx.T.dot(pred - y) * (1 / y.shape[0])\n",
    "    \n",
    "    return grad"
   ]
  },
  {
   "cell_type": "markdown",
   "id": "bc9d18c5-c765-48c3-820f-69e18da0d863",
   "metadata": {},
   "source": [
    "The `logistic_regression` function performs logistic regression using the gradient descent algorithm to find model parameters `w` and associated `loss` given input data `y`, `tx`, an initial guess `initial_w`, a maximum number of iterations `max_iters`, and a step size `gamma`."
   ]
  },
  {
   "cell_type": "code",
   "execution_count": 61,
   "id": "86c6f850-91e2-4b44-a01e-51fae4d559c7",
   "metadata": {},
   "outputs": [],
   "source": [
    "def logistic_regression(y, tx, initial_w, max_iters, gamma):\n",
    "    w = initial_w\n",
    "    loss = 0\n",
    "    \n",
    "    for n_iter in range(max_iters):\n",
    "        gradient = compute_gradient_log_reg(y, tx, w)\n",
    "        w = w - gamma * gradient\n",
    "        loss = compute_loss_log_reg(y, tx, w)\n",
    "    \n",
    "    return w, loss"
   ]
  },
  {
   "cell_type": "markdown",
   "id": "f95a0b26-44be-45ff-8db9-e693c30a7af9",
   "metadata": {},
   "source": [
    "This function, `logistic_regression_classify`, uses logistic regression to classify data into binary categories based on the provided model parameters w and a specified threshold, returning the predicted binary labels as integers."
   ]
  },
  {
   "cell_type": "code",
   "execution_count": 62,
   "id": "a45ae80e-0e8a-469f-8c53-789d9721b6b3",
   "metadata": {},
   "outputs": [],
   "source": [
    "def logistic_regression_classify(data, w, threshold):\n",
    "\n",
    "    predictions = sigmoid(data @ w)\n",
    "        \n",
    "    predictions[predictions <= threshold] = -1\n",
    "    predictions[predictions > threshold] = 1\n",
    "     \n",
    "    return predictions.astype(int)"
   ]
  },
  {
   "cell_type": "markdown",
   "id": "54f7045e-a6c5-499e-9ed4-7fe401ae5e51",
   "metadata": {},
   "source": [
    "Now we can train our Logistic Regression model. We will start by finding the best decision threshold, and then the best hyperparameters."
   ]
  },
  {
   "cell_type": "markdown",
   "id": "62886465-cde4-4cce-b845-8c71028d76fe",
   "metadata": {},
   "source": [
    "**Find the best Decision threshold**"
   ]
  },
  {
   "cell_type": "code",
   "execution_count": 63,
   "id": "86ca0320-ec46-4b21-b209-22158c61f34a",
   "metadata": {},
   "outputs": [],
   "source": [
    "# Train our model with arbitrary max_iters and gamma\n",
    "initial_w = np.zeros((x_train_set.shape[1], 1))\n",
    "max_iters = 1000\n",
    "gamma = 0.25\n",
    "\n",
    "w, loss = logistic_regression(y_train_set.reshape(-1, 1), x_train_set, initial_w, max_iters, gamma)"
   ]
  },
  {
   "cell_type": "code",
   "execution_count": 65,
   "id": "efc67876-582b-416b-840f-d9513736fcec",
   "metadata": {},
   "outputs": [
    {
     "data": {
      "image/png": "[encoded data removed]",
      "text/plain": [
       "<Figure size 720x432 with 1 Axes>"
      ]
     },
     "metadata": {
      "needs_background": "light"
     },
     "output_type": "display_data"
    }
   ],
   "source": [
    "# Define the thresholds to test\n",
    "thresholds = np.arange(0.5, 1.01, 0.01)\n",
    "\n",
    "# Initialize empty lists to store accuracy and F1 scores\n",
    "accuracies = []\n",
    "f1_scores = []\n",
    "\n",
    "# Loop through each threshold\n",
    "for threshold in thresholds:\n",
    "    preds = logistic_regression_classify(x_validation_set, w, threshold)\n",
    "    accuracy = calculate_accuracy(y_validation_set.reshape(-1, 1), preds) * 100\n",
    "    f1_score = calculate_f1_score(preds, y_validation_set) * 100\n",
    "\n",
    "    accuracies.append(accuracy)\n",
    "    f1_scores.append(f1_score)\n",
    "\n",
    "# Create a line plot\n",
    "plt.figure(figsize=(10, 6))\n",
    "plt.plot(thresholds, accuracies, label='Accuracy', marker='o')\n",
    "plt.plot(thresholds, f1_scores, label='F1 Score', marker='o')\n",
    "plt.xlabel('Threshold')\n",
    "plt.ylabel('Percentage')\n",
    "plt.title('Accuracy and F1 Score vs. Threshold')\n",
    "plt.legend()\n",
    "plt.grid(True)\n",
    "plt.show()"
   ]
  },
  {
   "cell_type": "markdown",
   "id": "4c1eaf67-442a-4ec6-b691-bbf8759a3275",
   "metadata": {},
   "source": [
    "Since we are interested in the F1 score, we can notice that it's maximized for `treshold` = 0.8"
   ]
  },
  {
   "cell_type": "code",
   "execution_count": 68,
   "id": "537d8f15-8506-4d74-a04d-38c94f7e949b",
   "metadata": {},
   "outputs": [
    {
     "name": "stdout",
     "output_type": "stream",
     "text": [
      "Best threshold: 0.8\n",
      "Accuracy: 87.49%\n",
      "F1 score: 40.13%\n"
     ]
    }
   ],
   "source": [
    "# Calculate accuracy\n",
    "threshold = 0.8\n",
    "preds = logistic_regression_classify(x_validation_set, w, threshold)\n",
    "accuracy = calculate_accuracy(y_validation_set.reshape(-1, 1), preds) * 100\n",
    "f1_score = calculate_f1_score(preds, y_validation_set) * 100\n",
    "\n",
    "print(f\"Best threshold: {threshold}\")\n",
    "print(f\"Accuracy: {accuracy:.2f}%\")\n",
    "print(f\"F1 score: {f1_score:.2f}%\")"
   ]
  },
  {
   "cell_type": "markdown",
   "id": "dd4af6d8-0930-4a89-b012-efac83225dba",
   "metadata": {
    "tags": []
   },
   "source": [
    "**Now we will try to find the best hyperparameters `gamma`and `max_iters_values`**"
   ]
  },
  {
   "cell_type": "markdown",
   "id": "11ed871a-c1c8-4f41-afd8-f37e798aff85",
   "metadata": {},
   "source": [
    "Given a `gamma`, the Gradient Decent algorithm needs enough time (iterations) to converge. Therefore, we will analyze results for `gamma`and `max_iters_values` simultanously to find a good tradeoff with the performances."
   ]
  },
  {
   "cell_type": "markdown",
   "id": "052bb07a-5440-42e4-9d12-69ec7555a32b",
   "metadata": {},
   "source": [
    "**Training :**"
   ]
  },
  {
   "cell_type": "markdown",
   "id": "90f780fc-24b4-4e98-8fdf-5c773fc3ccf7",
   "metadata": {},
   "source": [
    "<span style=\"color:red\">**Warning:** The following cell takes some time to run (10 min) since its purpose is to train the model 15 times with multiple `max_iters_values` with multiple `gamma`.</span>"
   ]
  },
  {
   "cell_type": "code",
   "execution_count": 69,
   "id": "28c766ae-800e-4b6f-a6a3-969ccf8f7bd1",
   "metadata": {},
   "outputs": [],
   "source": [
    "# Define lists of gamma and max_iters values to test\n",
    "gamma_values = [0.005, 0.01, 0.1, 0.25, 0.5]\n",
    "max_iters_values = [100, 500, 1000]\n",
    "\n",
    "results = []\n",
    "\n",
    "for gamma in gamma_values:\n",
    "    for max_iters in max_iters_values:\n",
    "        start_time = time.time()\n",
    "        w, loss = logistic_regression(y_train_set.reshape(-1, 1), x_train_set, initial_w, max_iters, gamma)\n",
    "        end_time = time.time()\n",
    "        elapsed_time = end_time - start_time\n",
    "        results.append((gamma, max_iters, w, loss, elapsed_time))"
   ]
  },
  {
   "cell_type": "markdown",
   "id": "477e5f24-43f0-4ff9-883d-ceb56a3b5017",
   "metadata": {},
   "source": [
    "**Visualization :**"
   ]
  },
  {
   "cell_type": "code",
   "execution_count": 71,
   "id": "2925f66e-f9b9-41a3-9066-2620e280024f",
   "metadata": {},
   "outputs": [],
   "source": [
    "# Sort the results by loss in ascending order (Index 3 corresponds to the loss value)\n",
    "sorted_results = sorted(results, key=lambda x: x[3])\n",
    "\n",
    "table_results = [[\"Gamma\", \"Max iter\", \"F1 score\", \"Accuracy\", \"Time taken (sec)\"]]\n",
    "\n",
    "for gamma, max_iters, w, loss, elapsed_time in sorted_results:\n",
    "    preds = logistic_regression_classify(x_validation_set, w, threshold)\n",
    "    accuracy = calculate_accuracy(y_validation_set.reshape(-1, 1), preds) * 100\n",
    "    f1_score = calculate_f1_score(preds, y_validation_set) * 100\n",
    "    table_results.append([gamma, max_iters, f\"{f1_score:.2f}\", f\"{accuracy:.2f}\", f\"{elapsed_time:.2f}\"])"
   ]
  },
  {
   "cell_type": "code",
   "execution_count": 72,
   "id": "8729c69c-4e19-404e-addc-8c1f5a2eba3b",
   "metadata": {},
   "outputs": [
    {
     "data": {
      "image/png": "[encoded data removed]",
      "text/plain": [
       "<Figure size 432x288 with 1 Axes>"
      ]
     },
     "metadata": {
      "needs_background": "light"
     },
     "output_type": "display_data"
    }
   ],
   "source": [
    "# Create a figure and axis for the table\n",
    "fig, ax = plt.subplots()\n",
    "\n",
    "# Create the table\n",
    "table = ax.table(cellText=table_results, loc='center', cellLoc='center')\n",
    "\n",
    "# Style the table\n",
    "table.auto_set_font_size(False)\n",
    "table.set_fontsize(12)\n",
    "table.scale(2, 2)  # Adjust the size as needed\n",
    "\n",
    "# Make the header text bold\n",
    "font = FontProperties()\n",
    "font.set_weight('bold')\n",
    "for (i, j), cell in table._cells.items():\n",
    "    if i == 0:\n",
    "        cell.set_text_props(fontproperties=font)\n",
    "\n",
    "# Remove the axis\n",
    "ax.axis('off')\n",
    "\n",
    "# Display the table\n",
    "plt.show()"
   ]
  },
  {
   "cell_type": "markdown",
   "id": "aa8cc583-9df0-4f08-9d51-4b017b1915b5",
   "metadata": {},
   "source": [
    "Results are sorted in ascending order of loss. We can notice an excellent tradeoff between result and performance (5rd line) :\n",
    "\n",
    "- Gamma: 0.25, Max Iter: 100\n",
    "- F1 Score: 39.59, Accuracy: 87.73, \n",
    "- Time Taken: 8.88 seconds"
   ]
  },
  {
   "cell_type": "markdown",
   "id": "de98ab30-0931-4d90-aa1f-d21f47ff7630",
   "metadata": {
    "tags": []
   },
   "source": [
    "### C. Regularized Ridge Logistic Regression"
   ]
  },
  {
   "cell_type": "markdown",
   "id": "0cdcecd3-234a-4acd-9d6b-234b9d450f03",
   "metadata": {},
   "source": [
    "Now we will try the Regularized Ridge Logistic Regression algorithm. The regularization term helps prevent overfitting by penalizing large parameter values."
   ]
  },
  {
   "cell_type": "code",
   "execution_count": 73,
   "id": "c2b1ba97-d557-4301-a486-e7f46cd2c3ce",
   "metadata": {},
   "outputs": [],
   "source": [
    "# Computes Regularized Logistic Regression using Gradient Descent Algorithm.\n",
    "def reg_logistic_regression(y, tx, lambda_, initial_w, max_iters, gamma):        \n",
    "    w = initial_w\n",
    "    loss = 0\n",
    "    for n_iter in range(max_iters):\n",
    "        gradient = compute_gradient_log_reg(y, tx, w) + 2*lambda_*w\n",
    "        w = w - gamma * gradient\n",
    "        loss = compute_loss_log_reg(y, tx, w) + lambda_ * np.squeeze(w.T.dot(w))\n",
    "\n",
    "    return w, loss"
   ]
  },
  {
   "cell_type": "markdown",
   "id": "c7bb9ba0-362e-405b-a836-d35c33bd317c",
   "metadata": {},
   "source": [
    "We will try to find the best regularization term `lambda_`. For that we will use the optimized (in term of performances) `gamma` and `max_iters_values` previouly found"
   ]
  },
  {
   "cell_type": "code",
   "execution_count": 74,
   "id": "edcdddc5-973e-496e-bca3-185c000fcc34",
   "metadata": {},
   "outputs": [],
   "source": [
    "# Define your data and parameters\n",
    "initial_w = np.zeros((x_train_set.shape[1], 1))\n",
    "max_iters = 100\n",
    "gamma = 0.25\n",
    "\n",
    "# Define a list of alpha values to test\n",
    "lambdas_values = [0.001, 0.005, 0.01, 0.1]\n",
    "\n",
    "results_reg = []\n",
    "\n",
    "for l in lambdas_values:\n",
    "    w, loss = reg_logistic_regression(y_train_set.reshape(-1, 1), x_train_set, l, initial_w, max_iters, gamma)\n",
    "    results_reg.append((l, w, loss))"
   ]
  },
  {
   "cell_type": "code",
   "execution_count": 76,
   "id": "8afba291-d82b-4bdc-80b0-56eefe78499b",
   "metadata": {},
   "outputs": [
    {
     "name": "stdout",
     "output_type": "stream",
     "text": [
      "Alpha: 0.001, F1 Score: 39.52, Accuracy: 87.76\n",
      "Alpha: 0.005, F1 Score: 39.37, Accuracy: 87.95\n",
      "Alpha: 0.01, F1 Score: 39.13, Accuracy: 88.18\n",
      "Alpha: 0.1, F1 Score: 32.87, Accuracy: 90.23\n"
     ]
    }
   ],
   "source": [
    "# Display or analyze the results for each alpha value\n",
    "for alpha, w, loss in results_reg:\n",
    "    preds = logistic_regression_classify(x_validation_set, w, threshold)\n",
    "    accuracy = calculate_accuracy(y_validation_set.reshape(-1, 1), preds) * 100\n",
    "    f1_score = calculate_f1_score(preds, y_validation_set) * 100\n",
    "    print(f\"Alpha: {alpha}, F1 Score: {f1_score:.2f}, Accuracy: {accuracy:.2f}\")"
   ]
  },
  {
   "cell_type": "markdown",
   "id": "5e23d2ab-ead7-4c0f-b067-8cfecf2ebbfc",
   "metadata": {},
   "source": [
    "We notice that the Regularized Logistic Regression and the regular Logistic Regression give us comparable results. Actually, the lower is the regularizer, the more precise is the algorithm. Therefore, we conclude that we don't need regularization."
   ]
  },
  {
   "cell_type": "markdown",
   "id": "a02d34ef-ce83-4c60-bb7e-e48cb3d266e0",
   "metadata": {},
   "source": [
    "# 5. Conclusion and Final submission"
   ]
  },
  {
   "cell_type": "markdown",
   "id": "4036a020-2598-4906-8829-edadca89ef5e",
   "metadata": {},
   "source": [
    "To conclude, our best algorithm is the Least Squares method for classification. Not only in scores, byt also in performances :\n",
    "\n",
    "- Accuracy: 86.71%\n",
    "- F1 score: 40.55%\n",
    "- Time taken: 0.37 sec\n",
    "\n",
    "Regarding the Logistic Regression. The best **tradeoff** between **score** and **performance** is the following :\n",
    "\n",
    "- **Gamma: 0.25, Max Iter: 100**\n",
    "- Accuracy: 87.73%\n",
    "- F1 Score: 39.59%\n",
    "- Time Taken: 10.56 seconds\n",
    "\n",
    "But if we don't take the performances into account, we can achieve a better score :\n",
    "\n",
    "- **Gamma: 0.25, Max Iters: 1000**\n",
    "- Accuracy: 87.49%\n",
    "- F1 Score: 40.13%\n",
    "- Time Taken: 85.20 seconds"
   ]
  },
  {
   "cell_type": "markdown",
   "id": "46951d21-36c4-449f-8975-e12557f11942",
   "metadata": {
    "tags": []
   },
   "source": [
    "# 6. Comparison and interpretation with external libraries"
   ]
  },
  {
   "cell_type": "markdown",
   "id": "2b6b41ba-5bff-4b79-8698-f54d6b1d2230",
   "metadata": {},
   "source": [
    "Finally, please refer to the `comparison.ipynb` file to see the comparison of our Logistic Regression model with sklearn Logitic Regression model.\n",
    "\n",
    "We have put this comparison in completely separate file, to make clear our own code has no dependencies."
   ]
  },
  {
   "cell_type": "code",
   "execution_count": null,
   "id": "0e1b366d-38d8-438e-8aa8-94bc4eb1de99",
   "metadata": {},
   "outputs": [],
   "source": []
  }
 ],
 "metadata": {
  "kernelspec": {
   "display_name": "Python 3 (ipykernel)",
   "language": "python",
   "name": "python3"
  },
  "language_info": {
   "codemirror_mode": {
    "name": "ipython",
    "version": 3
   },
   "file_extension": ".py",
   "mimetype": "text/x-python",
   "name": "python",
   "nbconvert_exporter": "python",
   "pygments_lexer": "ipython3",
   "version": "3.9.5"
  }
 },
 "nbformat": 4,
 "nbformat_minor": 5
}
